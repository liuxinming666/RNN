{
  "nbformat": 4,
  "nbformat_minor": 0,
  "metadata": {
    "colab": {
      "name": "加载预训练字向量，文本生成",
      "provenance": [],
      "private_outputs": true,
      "collapsed_sections": [
        "IRKWQ1ljB9W_",
        "6BgfUsLxTMiK",
        "Hs4DsrROU8e4"
      ],
      "mount_file_id": "1Z7ij-ekvqXu-CWc9PXR8VP6SlBWUcW4b",
      "authorship_tag": "ABX9TyPIF7TDzbBJFEjbYbkW7oUm",
      "include_colab_link": true
    },
    "kernelspec": {
      "name": "python3",
      "display_name": "Python 3"
    },
    "accelerator": "GPU"
  },
  "cells": [
    {
      "cell_type": "markdown",
      "metadata": {
        "id": "view-in-github",
        "colab_type": "text"
      },
      "source": [
        "<a href=\"https://colab.research.google.com/github/liuxinming666/RNN/blob/master/%E5%8A%A0%E8%BD%BD%E9%A2%84%E8%AE%AD%E7%BB%83%E5%AD%97%E5%90%91%E9%87%8F%EF%BC%8C%E6%96%87%E6%9C%AC%E7%94%9F%E6%88%90.ipynb\" target=\"_parent\"><img src=\"https://colab.research.google.com/assets/colab-badge.svg\" alt=\"Open In Colab\"/></a>"
      ]
    },
    {
      "cell_type": "markdown",
      "metadata": {
        "id": "yr8YEF1TkpPU",
        "colab_type": "text"
      },
      "source": [
        "# 导入类库"
      ]
    },
    {
      "cell_type": "code",
      "metadata": {
        "id": "vIhXczA0kkku",
        "colab_type": "code",
        "colab": {}
      },
      "source": [
        "import collections\n",
        "import time\n",
        "import numpy as np\n",
        "import random\n",
        "import math\n",
        "\n",
        "try:\n",
        "  # Use the %tensorflow_version magic if in colab.\n",
        "  %tensorflow_version 2.x\n",
        "except Exception:\n",
        "  pass\n",
        "\n",
        "import tensorflow as tf"
      ],
      "execution_count": 0,
      "outputs": []
    },
    {
      "cell_type": "markdown",
      "metadata": {
        "id": "Eu7uujYLkbmO",
        "colab_type": "text"
      },
      "source": [
        "# 加载预训练字向量"
      ]
    },
    {
      "cell_type": "code",
      "metadata": {
        "id": "dYRlFUbMkial",
        "colab_type": "code",
        "colab": {}
      },
      "source": [
        "start = time.clock()\n",
        "charFilePath = '/content/drive/My Drive/Colab Notebooks/RNN/预训练词向量/sgns.literature.char'\n",
        "f = open(charFilePath)\n",
        "max_chars = 0  #预训练字向量的个数\n",
        "embedding_dim = 0   #每个字的维度为300维\n",
        "\n",
        "embedding_index = {}\n",
        "bRead = False\n",
        "for line in f:\n",
        "  if bRead == False:\n",
        "    values = line.split(' ',1)\n",
        "    max_chars = values[0]\n",
        "    embedding_dim = values[1]\n",
        "  if bRead == True:\n",
        "    values = line.split(' ',1)\n",
        "    char = values[0]\n",
        "    charAry = values[1].split(' ')\n",
        "    charAry = charAry[:300]\n",
        "    coefs = np.asarray(charAry,dtype=np.float32)\n",
        "    embedding_index[char] = coefs\n",
        "  bRead = True\n",
        "\n",
        "f.close()\n",
        "end = time.clock()\n",
        "print('处理用时:',end - start)"
      ],
      "execution_count": 0,
      "outputs": []
    },
    {
      "cell_type": "markdown",
      "metadata": {
        "id": "9oB1EV-6AoaZ",
        "colab_type": "text"
      },
      "source": [
        "# 古诗数据处理"
      ]
    },
    {
      "cell_type": "code",
      "metadata": {
        "id": "whPbn4aYAsbW",
        "colab_type": "code",
        "colab": {}
      },
      "source": [
        "#读取古诗,将古诗存在数组中\n",
        "poetry_file = '/content/drive/My Drive/数据集/古诗文本/poetry.txt'\n",
        "# 诗集  \n",
        "poetrys = []\n",
        "filterSAry = [\"_\", \"(\", \"《\",\"[\"]\n",
        "index = 0  \n",
        "with open(poetry_file, \"r\") as f:  \n",
        "    for line in f: \n",
        "      line = line.strip('\\n')\n",
        "      lineAry = line.strip(' ').split(':')\n",
        "      title = lineAry[0]\n",
        "      content = lineAry[1]\n",
        "\n",
        "      if '_' in content or '（' in content or '《' in content or '[' in content:\n",
        "        continue\n",
        "      if len(content) < 5 or len(content) > 79:\n",
        "        continue\n",
        "      \n",
        "      content = content + ']'\n",
        "      poetrys.append(content)"
      ],
      "execution_count": 0,
      "outputs": []
    },
    {
      "cell_type": "code",
      "metadata": {
        "id": "My2FhTxlA3oG",
        "colab_type": "code",
        "colab": {}
      },
      "source": [
        "#按诗的字数排序\n",
        "poetrys = sorted(poetrys,key=lambda poetry:len(poetry))\n",
        "print('诗的总数为:',len(poetrys))"
      ],
      "execution_count": 0,
      "outputs": []
    },
    {
      "cell_type": "code",
      "metadata": {
        "id": "0liJo8CfBCJH",
        "colab_type": "code",
        "colab": {}
      },
      "source": [
        "#统计每首诗的长度,并统计相同长度的诗都各有多少首，统计出哪种长度的诗个数最多\n",
        "poetrys_length = [len(poetry) for poetry in poetrys]\n",
        "counter = collections.Counter(poetrys_length)\n",
        "poetrys_length,poetrys_num = zip(*counter.items())\n",
        "#求出最多个数的索引\n",
        "poertyLength_maxNum_index = np.argmax(poetrys_num)\n",
        "#print(counter)\n",
        "print('数量最多的诗的长度为:',poetrys_length[poertyLength_maxNum_index])\n",
        "print('数量最多的诗的个数为:',poetrys_num[poertyLength_maxNum_index])"
      ],
      "execution_count": 0,
      "outputs": []
    },
    {
      "cell_type": "code",
      "metadata": {
        "id": "wwZDYcktBMFW",
        "colab_type": "code",
        "colab": {}
      },
      "source": [
        "#将数量最多的诗装进列表\n",
        "poetrys_train = [poetry for poetry in poetrys if len(poetry) == 49]\n",
        "print('将要参与训练的诗的个数为:',len(poetrys_train))"
      ],
      "execution_count": 0,
      "outputs": []
    },
    {
      "cell_type": "code",
      "metadata": {
        "id": "UHwlv1P9Ba6X",
        "colab_type": "code",
        "colab": {}
      },
      "source": [
        "# 统计每个字出现次数\n",
        "start = time.clock()\n",
        "all_words = []\n",
        "for poetry in poetrys_train:\n",
        "  all_words += [word for word in poetry]\n",
        "#words = list(set(all_words))\n",
        "words_count = collections.Counter(all_words)\n",
        "words_count = sorted(\n",
        "    words_count.items(), \n",
        "    key=lambda x: x[1],\n",
        "    reverse=True)\n",
        "words,_ = zip(*words_count)\n",
        "end = time.clock()\n",
        "print('一共有',len(words),'个字符')\n",
        "print('用时:',end - start)\n",
        "print(words[:10])\n",
        "#print(list(set(result)).sort(key=result.)) "
      ],
      "execution_count": 0,
      "outputs": []
    },
    {
      "cell_type": "markdown",
      "metadata": {
        "id": "wS8URNx5Bh4R",
        "colab_type": "text"
      },
      "source": [
        "# 构造训练数据集"
      ]
    },
    {
      "cell_type": "code",
      "metadata": {
        "id": "rDNOZyx1Bncv",
        "colab_type": "code",
        "colab": {}
      },
      "source": [
        "#定义初始变量，文本的长度为49,参与训练的样本为12530个\n",
        "train_num = 12530\n",
        "maxlen = 49"
      ],
      "execution_count": 0,
      "outputs": []
    },
    {
      "cell_type": "code",
      "metadata": {
        "id": "ez9C7aV7Bv11",
        "colab_type": "code",
        "colab": {}
      },
      "source": [
        "#将字符映射为数组，并将数字映射为字符\n",
        "char_to_ix = {ch:i+1 for i,ch in enumerate(words)}\n",
        "ix_to_char = {i+1:ch for i,ch in enumerate(words)}"
      ],
      "execution_count": 0,
      "outputs": []
    },
    {
      "cell_type": "code",
      "metadata": {
        "id": "rFbWH277-9SI",
        "colab_type": "code",
        "colab": {}
      },
      "source": [
        "#构造一个生成器\n",
        "#x shape为 (batch,maxlen - 1)\n",
        "#y shape为 (batch,maxlen - 1)\n",
        "def gen_generator():\n",
        "  dataLength = len(poetrys_train)\n",
        "  batch = 32\n",
        "  while True:\n",
        "    random.shuffle(poetrys_train)\n",
        "    data_batch = np.zeros((32, maxlen))\n",
        "    for i in range(dataLength):\n",
        "      for wix,word in enumerate(poetrys_train[i]):\n",
        "        data_batch[i%batch,wix] = char_to_ix[word]\n",
        "      if (i%(batch-1)) == 0 and i != 0:\n",
        "        data_baatch_oneHot = tf.keras.utils.to_categorical(data_batch,num_classes=len(words) + 1)\n",
        "        x = data_batch[:,:maxlen - 1]\n",
        "        y = data_baatch_oneHot[:,1:]\n",
        "        yield (x,y)\n",
        "\n",
        "\n",
        "gen = gen_generator()\n",
        "A = next(gen)\n",
        "print(A[0].shape)\n",
        "print(A[0][0][0])\n",
        "print(poetrys_train[0][0])\n",
        "print(char_to_ix[poetrys_train[0][0]])\n"
      ],
      "execution_count": 0,
      "outputs": []
    },
    {
      "cell_type": "markdown",
      "metadata": {
        "id": "IRKWQ1ljB9W_",
        "colab_type": "text"
      },
      "source": [
        "# 准备嵌入层"
      ]
    },
    {
      "cell_type": "code",
      "metadata": {
        "id": "VkFRmYeXCAyW",
        "colab_type": "code",
        "colab": {}
      },
      "source": [
        "#构造嵌入矩阵\n",
        "embedding_matrix = np.zeros((len(words) + 1, int(embedding_dim)))\n",
        "for char,index in char_to_ix.items():\n",
        "  embedding_vector = embedding_index.get(char)\n",
        "  if embedding_vector is not None:\n",
        "    embedding_matrix[index] = embedding_vector"
      ],
      "execution_count": 0,
      "outputs": []
    },
    {
      "cell_type": "code",
      "metadata": {
        "id": "RXruUAHPBBmS",
        "colab_type": "code",
        "colab": {}
      },
      "source": [
        "'''\n",
        "#构造嵌入层\n",
        "embedding_layer = tf.keras.layers.Embedding(len(words) + 1,\n",
        "                      int(embedding_dim),\n",
        "                      weights=[embedding_matrix],\n",
        "                      input_length=maxlen - 1,\n",
        "                      trainable=False)\n",
        "'''"
      ],
      "execution_count": 0,
      "outputs": []
    },
    {
      "cell_type": "markdown",
      "metadata": {
        "id": "6BgfUsLxTMiK",
        "colab_type": "text"
      },
      "source": [
        "# 构造模型"
      ]
    },
    {
      "cell_type": "code",
      "metadata": {
        "id": "7_bk0eBUTPze",
        "colab_type": "code",
        "colab": {}
      },
      "source": [
        "#构造模型\n",
        "model = tf.keras.Sequential()\n",
        "model.add(tf.keras.layers.Embedding(input_dim=len(words) + 1,output_dim=int(embedding_dim),input_length=maxlen - 1))\n",
        "model.add(tf.keras.layers.LSTM(\n",
        "    1024,\n",
        "    return_sequences = True))\n",
        "#model.add(tf.keras.layers.LSTM(128,return_sequences = True))\n",
        "model.add(tf.keras.layers.Dense(len(words) + 1,activation='softmax'))\n",
        "#model.add(tf.keras.layers.LSTM(len(words) + 1))\n",
        "\n",
        "model.compile(loss='categorical_crossentropy',optimizer='adam')"
      ],
      "execution_count": 0,
      "outputs": []
    },
    {
      "cell_type": "code",
      "metadata": {
        "id": "7uAh7sE-npQU",
        "colab_type": "code",
        "colab": {}
      },
      "source": [
        "#设置嵌入层参数\n",
        "model.layers[0].set_weights([embedding_matrix])\n",
        "model.layers[0].trainable = False"
      ],
      "execution_count": 0,
      "outputs": []
    },
    {
      "cell_type": "code",
      "metadata": {
        "id": "yUUFVyUzUj3r",
        "colab_type": "code",
        "colab": {}
      },
      "source": [
        "model.summary()"
      ],
      "execution_count": 0,
      "outputs": []
    },
    {
      "cell_type": "markdown",
      "metadata": {
        "id": "Hs4DsrROU8e4",
        "colab_type": "text"
      },
      "source": [
        "# 训练模型"
      ]
    },
    {
      "cell_type": "code",
      "metadata": {
        "id": "pA2wTsI_U-rt",
        "colab_type": "code",
        "colab": {}
      },
      "source": [
        "#训练模型\n",
        "gen = gen_generator()\n",
        "train_epochs = 100\n",
        "stepsPerEpochs = math.floor(len(poetrys_train)/32)\n",
        "model.fit_generator(gen,\n",
        "          epochs=train_epochs,\n",
        "          steps_per_epoch=stepsPerEpochs)"
      ],
      "execution_count": 0,
      "outputs": []
    },
    {
      "cell_type": "code",
      "metadata": {
        "id": "BqhcennHvOZD",
        "colab_type": "code",
        "colab": {}
      },
      "source": [
        "#模型保存\n",
        "modelPath = '/content/drive/My Drive/myModel/rnn-poetrys-embedding-100.h5'\n",
        "model.save(modelPath)"
      ],
      "execution_count": 0,
      "outputs": []
    },
    {
      "cell_type": "markdown",
      "metadata": {
        "id": "jIqiPoubW8aL",
        "colab_type": "text"
      },
      "source": [
        "# 加载训练好的模型进行测试"
      ]
    },
    {
      "cell_type": "code",
      "metadata": {
        "id": "k2W48TLWW96b",
        "colab_type": "code",
        "colab": {}
      },
      "source": [
        "#加载模型\n",
        "modelPath = '/content/drive/My Drive/myModel/rnn-poetrys-embedding-100.h5'\n",
        "model = tf.keras.models.load_model(modelPath)\n",
        "model.summary()"
      ],
      "execution_count": 0,
      "outputs": []
    },
    {
      "cell_type": "code",
      "metadata": {
        "id": "TRnANtE_XI1h",
        "colab_type": "code",
        "colab": {}
      },
      "source": [
        "#计算出第一个字是什么\n",
        "#x shape为 (batch,maxlen - 1)\n",
        "#y shape为 (batch,maxlen - 1,len(words)+1)\n",
        "x = np.zeros(shape=(1,maxlen - 1))\n",
        "y = model.predict(x)\n",
        "\n",
        "firstWord_oneHot = y[0,0,:]\n",
        "print(firstWord_oneHot.shape)\n",
        "idx = np.argmax(firstWord_oneHot,axis=-1)\n",
        "firstWord = ix_to_char[idx]\n",
        "print(firstWord)\n"
      ],
      "execution_count": 0,
      "outputs": []
    },
    {
      "cell_type": "code",
      "metadata": {
        "id": "bDLLZWROY99Z",
        "colab_type": "code",
        "colab": {}
      },
      "source": [
        "print(firstWord_oneHot.shape)"
      ],
      "execution_count": 0,
      "outputs": []
    },
    {
      "cell_type": "code",
      "metadata": {
        "id": "vzIKRNP4Yt6D",
        "colab_type": "code",
        "colab": {}
      },
      "source": [
        "#循环得出每一个字\n",
        "genPoetry = []\n",
        "genPoetry.append(firstWord)\n",
        "xPoetry = np.zeros(shape=(1,maxlen - 1))\n",
        "xPoetry[0,0] = char_to_ix[firstWord]\n",
        "#print(np.argmax(xPoetry[0,0]))\n",
        "for i in range(maxlen - 2):\n",
        "  y = model.predict(xPoetry)\n",
        "  if i < (maxlen -1):\n",
        "    xPoetry[0,i+1] = np.argmax(y[0,i,:],axis=-1)\n",
        "  idxTmp = np.argmax(y[0,i,:],axis=-1)\n",
        "  genPoetry.append(ix_to_char[idxTmp])"
      ],
      "execution_count": 0,
      "outputs": []
    },
    {
      "cell_type": "code",
      "metadata": {
        "id": "cFdDL2nmZs3c",
        "colab_type": "code",
        "colab": {}
      },
      "source": [
        "print(\"生成的诗为：\")\n",
        "print(\"\".join(genPoetry))"
      ],
      "execution_count": 0,
      "outputs": []
    },
    {
      "cell_type": "code",
      "metadata": {
        "id": "28SmDH4baAb2",
        "colab_type": "code",
        "colab": {}
      },
      "source": [
        ""
      ],
      "execution_count": 0,
      "outputs": []
    }
  ]
}
